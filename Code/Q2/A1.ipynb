{
 "cells": [
  {
   "cell_type": "code",
   "execution_count": 1,
   "outputs": [],
   "source": [
    "import os\n",
    "import random\n",
    "import lxml\n",
    "import nltk\n",
    "from bs4 import BeautifulSoup\n",
    "from nltk.corpus import stopwords\n",
    "from nltk.tokenize import word_tokenize\n",
    "from string import punctuation\n",
    "from typing import List, Dict, Tuple, Union\n",
    "import string\n",
    "# nltk.download('punkt')\n",
    "# nltk.download('stopwords')\n",
    "\n",
    "ORIGINAL_PATH = os.path.join(os.getcwd(), os.pardir, os.pardir, 'Dataset', 'CSE508_Winter2023_Dataset', 'CSE508_Winter2023_Dataset')\n",
    "ALTERED_PATH = os.path.join(os.getcwd(), 'DatasetAlter')\n"
   ],
   "metadata": {
    "collapsed": false
   }
  },
  {
   "cell_type": "code",
   "execution_count": null,
   "outputs": [],
   "source": [
    "def create_alter(seed=1):\n",
    "\n",
    "\trandom.seed(seed)\n",
    "\trandom_samples = random.sample(range(1, 1401), 5)\n",
    "\n",
    "\tif not os.path.exists(ALTERED_PATH):\n",
    "\t\tos.makedirs(ALTERED_PATH)\n",
    "\n",
    "\tfor filename in os.listdir(ORIGINAL_PATH):\n",
    "\n",
    "\t\twith open(os.path.join(ORIGINAL_PATH, filename), 'r') as f:\n",
    "\t\t\toriginal = f.read()\n",
    "\n",
    "\t\tsoup = BeautifulSoup(original, 'lxml')\n",
    "\t\tcontent = soup.title.string.strip() + \" \" + soup.find('text').text.strip()\n",
    "\n",
    "\t\tif int(filename[-4:]) in random_samples:\n",
    "\t\t\tprint(\"----------------------------------\")\n",
    "\t\t\tprint(\"Filename: \", filename)\n",
    "\t\t\tprint(\"----------------------------------\")\n",
    "\t\t\tprint(\"Before: \")\n",
    "\t\t\tprint(original)\n",
    "\t\t\tprint(\"----------------------------------\")\n",
    "\t\t\tprint(\"After: \")\n",
    "\t\t\tprint(content)\n",
    "\t\t\tprint(\"----------------------------------\")\n",
    "\n",
    "\t\twith open(os.path.join(ALTERED_PATH, filename), 'w') as fa:\n",
    "\t\t\tfa.write(content)\n",
    "\n",
    "\tprint(\"Finished Processing\")"
   ],
   "metadata": {
    "collapsed": false
   }
  },
  {
   "cell_type": "code",
   "execution_count": null,
   "outputs": [],
   "source": [
    "def clear_alter():\n",
    "\tfor filename in os.listdir(ALTERED_PATH):\n",
    "\t\tos.remove(os.path.join(ALTERED_PATH, filename))\n"
   ],
   "metadata": {
    "collapsed": false
   }
  },
  {
   "cell_type": "code",
   "execution_count": null,
   "outputs": [],
   "source": [
    "clear_alter()\n",
    "create_alter()"
   ],
   "metadata": {
    "collapsed": false
   }
  },
  {
   "cell_type": "code",
   "execution_count": null,
   "outputs": [],
   "source": [
    "def preprocess(seed=1):\n",
    "\trandom.seed(seed)\n",
    "\trandom_samples = random.sample(range(1, 1401), 5)\n",
    "\n",
    "\tfor filename in os.listdir(ALTERED_PATH):\n",
    "\t\twith open(os.path.join(ALTERED_PATH, filename), 'r') as f:\n",
    "\t\t\toriginal = f.read()\n",
    "\n",
    "\t\tcontent = original.lower()\n",
    "\n",
    "\n",
    "\t\tif int(filename[-4:]) in random_samples:\n",
    "\t\t\tprint(\"----------------------------------\")\n",
    "\t\t\tprint(\"LOWERCASE\")\n",
    "\t\t\tprint(\"----------------------------------\")\n",
    "\t\t\tprint(\"Filename: \", filename)\n",
    "\t\t\tprint(\"----------------------------------\")\n",
    "\t\t\tprint(\"Before: \")\n",
    "\t\t\tprint(original)\n",
    "\t\t\tprint(\"----------------------------------\")\n",
    "\t\t\tprint(\"After: \")\n",
    "\t\t\tprint(content)\n",
    "\t\t\tprint(\"----------------------------------\")\n",
    "\n",
    "\t\tcontent = word_tokenize(content)\n",
    "\n",
    "\n",
    "\t\tif int(filename[-4:]) in random_samples:\n",
    "\t\t\tprint(\"----------------------------------\")\n",
    "\t\t\tprint(\"TOKENIZE\")\n",
    "\t\t\tprint(\"After: \")\n",
    "\t\t\tprint(content)\n",
    "\t\t\tprint(\"----------------------------------\")\n",
    "\n",
    "\t\tcontent = [w for w in content if not w in stopwords.words('english')]\n",
    "\n",
    "\n",
    "\t\tif int(filename[-4:]) in random_samples:\n",
    "\t\t\tprint(\"----------------------------------\")\n",
    "\t\t\tprint(\"STOPWORDS\")\n",
    "\t\t\tprint(\"After: \")\n",
    "\t\t\tprint(content)\n",
    "\t\t\tprint(\"----------------------------------\")\n",
    "\n",
    "\t\tcontent = [w for w in content if not w in punctuation]\n",
    "\n",
    "\n",
    "\t\tif int(filename[-4:]) in random_samples:\n",
    "\t\t\tprint(\"----------------------------------\")\n",
    "\t\t\tprint(\"PUNCTUATION\")\n",
    "\t\t\tprint(\"After: \")\n",
    "\t\t\tprint(content)\n",
    "\t\t\tprint(\"----------------------------------\")\n",
    "\n",
    "\t\tcontent = [w for w in content if w.strip()]\n",
    "\n",
    "\n",
    "\t\tif int(filename[-4:]) in random_samples:\n",
    "\t\t\tprint(\"----------------------------------\")\n",
    "\t\t\tprint(\"BLANKSPACE\")\n",
    "\t\t\tprint(\"After: \")\n",
    "\t\t\tprint(content)\n",
    "\t\t\tprint(\"----------------------------------\")\n",
    "\n",
    "\t\tcontent = \" \".join(content)\n",
    "\n",
    "\t\twith open(os.path.join(ALTERED_PATH, filename), 'w') as fa:\n",
    "\t\t\tfa.write(content)\n",
    "\n",
    "\tprint(\"Finished Processing\")\n"
   ],
   "metadata": {
    "collapsed": false
   }
  },
  {
   "cell_type": "code",
   "execution_count": null,
   "outputs": [],
   "source": [
    "preprocess()"
   ],
   "metadata": {
    "collapsed": false
   }
  }
 ],
 "metadata": {
  "kernelspec": {
   "display_name": "Python 3",
   "language": "python",
   "name": "python3"
  },
  "language_info": {
   "codemirror_mode": {
    "name": "ipython",
    "version": 2
   },
   "file_extension": ".py",
   "mimetype": "text/x-python",
   "name": "python",
   "nbconvert_exporter": "python",
   "pygments_lexer": "ipython2",
   "version": "2.7.6"
  }
 },
 "nbformat": 4,
 "nbformat_minor": 0
}
